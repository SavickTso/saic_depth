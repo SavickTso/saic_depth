{
 "cells": [
  {
   "cell_type": "code",
   "execution_count": 2,
   "metadata": {},
   "outputs": [
    {
     "data": {
      "text/plain": [
       "array([[  0,   0,   0, ..., 547, 547, 546],\n",
       "       [  0,   0,   0, ..., 547, 546, 546],\n",
       "       [  0,   0,   0, ..., 547, 546, 546],\n",
       "       ...,\n",
       "       [  0,   0,   0, ..., 693, 706, 688],\n",
       "       [  0,   0,   0, ..., 708, 415, 688],\n",
       "       [  0,   0,   0, ..., 709, 708, 689]], dtype=uint16)"
      ]
     },
     "execution_count": 2,
     "metadata": {},
     "output_type": "execute_result"
    }
   ],
   "source": [
    "import cv2\n",
    "import numpy as np\n",
    "\n",
    "cv2.imread('depth_converted.png', cv2.IMREAD_ANYDEPTH)"
   ]
  },
  {
   "cell_type": "code",
   "execution_count": 3,
   "metadata": {},
   "outputs": [
    {
     "data": {
      "text/plain": [
       "array([[   0,    0,    0, ..., 1059, 1059, 1059],\n",
       "       [   0,    0,    0, ..., 1059, 1059, 1059],\n",
       "       [   0,    0,    0, ..., 1059, 1059, 1059],\n",
       "       ...,\n",
       "       [   0,    0,    0, ..., 1102, 1102, 1102],\n",
       "       [   0,    0,    0, ..., 1102, 1102, 1103],\n",
       "       [   0,    0,    0, ..., 1103, 1103, 1103]], dtype=uint16)"
      ]
     },
     "execution_count": 3,
     "metadata": {},
     "output_type": "execute_result"
    }
   ],
   "source": [
    "cv2.imread('depth_458.png', cv2.IMREAD_ANYDEPTH)"
   ]
  },
  {
   "cell_type": "code",
   "execution_count": 7,
   "metadata": {},
   "outputs": [
    {
     "name": "stdout",
     "output_type": "stream",
     "text": [
      "(1080, 1920)\n",
      "depth max 9999\n",
      "(256, 320)\n"
     ]
    },
    {
     "data": {
      "text/plain": [
       "True"
      ]
     },
     "execution_count": 7,
     "metadata": {},
     "output_type": "execute_result"
    }
   ],
   "source": [
    "from PIL import Image\n",
    "\n",
    "image = Image.open(\n",
    "    \"camera0_458.png\"\n",
    ")\n",
    "\n",
    "# Resize the image\n",
    "resized_image = image.resize((320, 256))\n",
    "resized_image = resized_image.convert(\"RGB\")\n",
    "# Save the downsized image\n",
    "resized_image.save(\n",
    "    \"color_image_2.jpg\"\n",
    ")\n",
    "\n",
    "depth_image = cv2.imread(\n",
    "    \"depth_458.png\",\n",
    "    cv2.IMREAD_ANYDEPTH,\n",
    ")\n",
    "print(depth_image.shape)\n",
    "print(\"depth max\", depth_image.max())\n",
    "resized_image = cv2.resize(depth_image, (320, 256), interpolation=cv2.INTER_LINEAR)\n",
    "print(resized_image.shape)\n",
    "# Save the downsized image\n",
    "cv2.imwrite(\n",
    "    \"depth_converted_1.png\",\n",
    "    resized_image,\n",
    ")\n"
   ]
  },
  {
   "cell_type": "code",
   "execution_count": null,
   "metadata": {},
   "outputs": [],
   "source": []
  }
 ],
 "metadata": {
  "kernelspec": {
   "display_name": "Python 3",
   "language": "python",
   "name": "python3"
  },
  "language_info": {
   "codemirror_mode": {
    "name": "ipython",
    "version": 3
   },
   "file_extension": ".py",
   "mimetype": "text/x-python",
   "name": "python",
   "nbconvert_exporter": "python",
   "pygments_lexer": "ipython3",
   "version": "3.8.10"
  }
 },
 "nbformat": 4,
 "nbformat_minor": 2
}
